{
 "cells": [
  {
   "cell_type": "code",
   "execution_count": 2,
   "metadata": {},
   "outputs": [
    {
     "name": "stdout",
     "output_type": "stream",
     "text": [
      "Collecting pytesseract\n",
      "  Downloading pytesseract-0.3.6.tar.gz (13 kB)\n",
      "Requirement already satisfied: Pillow in /home/siddharth/anaconda3/lib/python3.7/site-packages (from pytesseract) (7.0.0)\n",
      "Building wheels for collected packages: pytesseract\n",
      "  Building wheel for pytesseract (setup.py) ... \u001b[?25ldone\n",
      "\u001b[?25h  Created wheel for pytesseract: filename=pytesseract-0.3.6-py2.py3-none-any.whl size=13631 sha256=34db3bab0195f53f84ee261c3e226de1f5bfa5a7cdcd5739ba65255b2c3bf6e8\n",
      "  Stored in directory: /home/siddharth/.cache/pip/wheels/f1/2f/a5/574c57fb22cfcf24f315c8feda132fd0463a9b07ef78394d07\n",
      "Successfully built pytesseract\n",
      "Installing collected packages: pytesseract\n",
      "Successfully installed pytesseract-0.3.6\n"
     ]
    }
   ],
   "source": [
    "!pip install pytesseract"
   ]
  },
  {
   "cell_type": "code",
   "execution_count": 1,
   "metadata": {},
   "outputs": [],
   "source": [
    "import numpy as np\n",
    "import cv2\n",
    "import imutils\n",
    "import pytesseract"
   ]
  },
  {
   "cell_type": "code",
   "execution_count": null,
   "metadata": {},
   "outputs": [
    {
     "name": "stdout",
     "output_type": "stream",
     "text": [
      "Number is : BALENO\n",
      "\f",
      "\n"
     ]
    }
   ],
   "source": [
    "image = cv2.imread('./Car Images/3.jpg')\n",
    "\n",
    "# Resize the image - change width to 500\n",
    "image = imutils.resize(image, width=500)\n",
    "\n",
    "# Display the original image\n",
    "cv2.imshow(\"Original Image\", image)\n",
    "cv2.waitKey(0)"
   ]
  },
  {
   "cell_type": "code",
   "execution_count": null,
   "metadata": {},
   "outputs": [],
   "source": [
    "# RGB to Gray scale conversion\n",
    "gray = cv2.cvtColor(image, cv2.COLOR_BGR2GRAY)\n",
    "cv2.imshow(\"1 - Grayscale Conversion\", gray)\n",
    "cv2.waitKey(0)\n",
    "\n",
    "# Noise removal with iterative bilateral filter(removes noise while preserving edges)\n",
    "gray = cv2.bilateralFilter(gray, 11, 17, 17)\n",
    "cv2.imshow(\"2 - Bilateral Filter\", gray)\n",
    "cv2.waitKey(0)\n",
    "\n",
    "# Find Edges of the grayscale image\n",
    "edged = cv2.Canny(gray, 170, 200)\n",
    "cv2.imshow(\"3 - Canny Edges\", edged)\n",
    "cv2.waitKey(0)\n",
    "\n",
    "# Find contours based on Edges\n",
    "cnts, new  = cv2.findContours(edged.copy(), cv2.RETR_LIST, cv2.CHAIN_APPROX_SIMPLE)\n",
    "\n",
    "# Create copy of original image to draw all contours\n",
    "img1 = image.copy()\n",
    "cv2.drawContours(img1, cnts, -1, (0,255,0), 3)\n",
    "cv2.imshow(\"4- All Contours\", img1)\n",
    "cv2.waitKey(0)\n",
    "\n",
    "#sort contours based on their area keeping minimum required area as '30' (anything smaller than this will not be considered)\n",
    "cnts=sorted(cnts, key = cv2.contourArea, reverse = True)[:30]\n",
    "NumberPlateCnt = None #we currently have no Number plate contour\n",
    "\n",
    "# Top 30 Contours\n",
    "img2 = image.copy()\n",
    "cv2.drawContours(img2, cnts, -1, (0,255,0), 3)\n",
    "cv2.imshow(\"5- Top 30 Contours\", img2)\n",
    "cv2.waitKey(0)\n",
    "\n",
    "# loop over our contours to find the best possible approximate contour of number plate\n",
    "count = 0\n",
    "idx =7\n",
    "for c in cnts:\n",
    "        peri = cv2.arcLength(c, True)\n",
    "        approx = cv2.approxPolyDP(c, 0.02 * peri, True)\n",
    "        # print (\"approx = \",approx)\n",
    "        if len(approx) == 4:  # Select the contour with 4 corners\n",
    "            NumberPlateCnt = approx #This is our approx Number Plate Contour\n",
    "\n",
    "            # Crop those contours and store it in Cropped Images folder\n",
    "            x, y, w, h = cv2.boundingRect(c) #This will find out co-ord for plate\n",
    "            new_img = gray[y:y + h, x:x + w] #Create new image\n",
    "            cv2.imwrite('Cropped Images-Text/' + str(idx) + '.png', new_img) #Store new image\n",
    "            idx+=1\n",
    "\n",
    "            break\n",
    "\n",
    "\n",
    "# Drawing the selected contour on the original image\n",
    "#print(NumberPlateCnt)\n",
    "cv2.drawContours(image, [NumberPlateCnt], -1, (0,255,0), 3)\n",
    "cv2.imshow(\"Final Image With Number Plate Detected\", image)\n",
    "cv2.waitKey(0)\n",
    "\n",
    "Cropped_img_loc = 'Cropped Images-Text/7.png'\n",
    "cv2.imshow(\"Cropped Image \", cv2.imread(Cropped_img_loc))\n",
    "\n",
    "# Use tesseract to covert image into string\n",
    "text = pytesseract.image_to_string(Cropped_img_loc, lang='eng')\n",
    "print(\"Number is :\", text)\n",
    "\n",
    "cv2.waitKey(0) #Wait for user input before closing the images displayed"
   ]
  },
  {
   "cell_type": "code",
   "execution_count": null,
   "metadata": {},
   "outputs": [],
   "source": []
  }
 ],
 "metadata": {
  "kernelspec": {
   "display_name": "Python 3",
   "language": "python",
   "name": "python3"
  },
  "language_info": {
   "codemirror_mode": {
    "name": "ipython",
    "version": 3
   },
   "file_extension": ".py",
   "mimetype": "text/x-python",
   "name": "python",
   "nbconvert_exporter": "python",
   "pygments_lexer": "ipython3",
   "version": "3.7.5"
  }
 },
 "nbformat": 4,
 "nbformat_minor": 2
}
